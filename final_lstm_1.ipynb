{
  "nbformat": 4,
  "nbformat_minor": 0,
  "metadata": {
    "language_info": {
      "codemirror_mode": {
        "name": "ipython",
        "version": 3
      },
      "file_extension": ".py",
      "mimetype": "text/x-python",
      "name": "python",
      "nbconvert_exporter": "python",
      "pygments_lexer": "ipython3",
      "version": 3
    },
    "orig_nbformat": 2,
    "kernelspec": {
      "name": "python_defaultSpec_1593923522213",
      "display_name": "Python 3.7.4 64-bit ('base': conda)"
    },
    "colab": {
      "provenance": []
    },
    "accelerator": "GPU"
  },
  "cells": [
    {
      "cell_type": "code",
      "source": [],
      "metadata": {
        "id": "Iu2tcS8E_Nd4"
      },
      "execution_count": null,
      "outputs": []
    },
    {
      "cell_type": "code",
      "source": [
        "import pandas as pd\n",
        "import numpy as np\n",
        "from sklearn.preprocessing import LabelEncoder "
      ],
      "metadata": {
        "id": "wByuYtI-AVPx"
      },
      "execution_count": null,
      "outputs": []
    },
    {
      "cell_type": "code",
      "source": [
        "dns = pd.read_csv('DoS_DNS.csv')\n",
        "ldap = pd.read_csv('DoS_LDAP.csv')\n",
        "mssql = pd.read_csv('DoS_MSSQL.csv')\n",
        "netbios = pd.read_csv('DoS_NETBIOS.csv')\n",
        "ntp = pd.read_csv('DoS_NTP.csv')\n",
        "snmp = pd.read_csv('DoS_SNMP.csv')\n",
        "ssdp = pd.read_csv('DoS_SSDP.csv')\n",
        "syn = pd.read_csv('DoS_SYN.csv')\n",
        "tftp = pd.read_csv('DoS_TFTP.csv')\n",
        "udp = pd.read_csv('DoS_UDP.csv')\n",
        "udplag = pd.read_csv('DoS_UDPLAG.csv')"
      ],
      "metadata": {
        "id": "WGtD5J6ilq3K"
      },
      "execution_count": null,
      "outputs": []
    },
    {
      "cell_type": "code",
      "source": [
        "data = pd.concat([dns, ldap, mssql, netbios, ntp, snmp, ssdp, udp, syn, udplag], ignore_index = True)"
      ],
      "metadata": {
        "id": "J3nvs6N9AGeo"
      },
      "execution_count": null,
      "outputs": []
    },
    {
      "cell_type": "code",
      "metadata": {
        "id": "DwrOqMctT8uZ"
      },
      "source": [
        "data.shape"
      ],
      "execution_count": null,
      "outputs": []
    },
    {
      "cell_type": "code",
      "metadata": {
        "id": "-E_MFSeQQe9k",
        "colab": {
          "base_uri": "https://localhost:8080/"
        },
        "outputId": "4ee44574-6a5c-48ca-bdd7-0bab25b404f8"
      },
      "source": [
        "data[' Label']"
      ],
      "execution_count": null,
      "outputs": [
        {
          "output_type": "execute_result",
          "data": {
            "text/plain": [
              "0         DrDoS_DNS\n",
              "1         DrDoS_DNS\n",
              "2         DrDoS_DNS\n",
              "3         DrDoS_DNS\n",
              "4         DrDoS_DNS\n",
              "            ...    \n",
              "399995      UDP-lag\n",
              "399996      UDP-lag\n",
              "399997      UDP-lag\n",
              "399998      UDP-lag\n",
              "399999      UDP-lag\n",
              "Name:  Label, Length: 400000, dtype: object"
            ]
          },
          "metadata": {},
          "execution_count": 46
        }
      ]
    },
    {
      "cell_type": "code",
      "metadata": {
        "id": "HPsFbSHYTfdp"
      },
      "source": [
        "# Drop Unnamed:0, Unnamed:0.1 columns \n",
        "data = data.drop(['Unnamed: 0', 'Unnamed: 0.1'], axis = 1)"
      ],
      "execution_count": null,
      "outputs": []
    },
    {
      "cell_type": "code",
      "metadata": {
        "id": "SC5DPjv3UwNU"
      },
      "source": [
        "data.columns "
      ],
      "execution_count": null,
      "outputs": []
    },
    {
      "cell_type": "code",
      "metadata": {
        "id": "EkQs9nwj4WKD"
      },
      "source": [
        "data_real = data.replace(np.inf, np.nan)"
      ],
      "execution_count": null,
      "outputs": []
    },
    {
      "cell_type": "code",
      "metadata": {
        "id": "PJPv_7kp49h0"
      },
      "source": [
        "data_real.isnull().sum().sum()"
      ],
      "execution_count": null,
      "outputs": []
    },
    {
      "cell_type": "code",
      "metadata": {
        "id": "7YT1F2Cj5Z-1"
      },
      "source": [
        "data_df = data_real.dropna(axis=0)"
      ],
      "execution_count": null,
      "outputs": []
    },
    {
      "cell_type": "code",
      "metadata": {
        "id": "p7UIbkOS5eYC"
      },
      "source": [
        "data_df.isnull().sum().sum()"
      ],
      "execution_count": null,
      "outputs": []
    },
    {
      "cell_type": "code",
      "metadata": {
        "id": "hf9pHEH3Dj2z"
      },
      "source": [
        "data_df"
      ],
      "execution_count": null,
      "outputs": []
    },
    {
      "cell_type": "code",
      "metadata": {
        "id": "s3pXws8sJAJV"
      },
      "source": [
        "# data_df.to_csv('data_final.csv', index = False)\n",
        "# from google.colab import files\n",
        "# files.download('data_final.csv')"
      ],
      "execution_count": null,
      "outputs": []
    },
    {
      "cell_type": "code",
      "metadata": {
        "id": "MRK3PwkTVLBY"
      },
      "source": [
        "data_X = data_df.drop([' Label', 'SimillarHTTP'], axis = 1)"
      ],
      "execution_count": null,
      "outputs": []
    },
    {
      "cell_type": "code",
      "metadata": {
        "id": "Hsqh3PRHVrAU"
      },
      "source": [
        "data_X.columns "
      ],
      "execution_count": null,
      "outputs": []
    },
    {
      "cell_type": "code",
      "metadata": {
        "id": "ouycjUS3Vspo"
      },
      "source": [
        "data_X.shape "
      ],
      "execution_count": null,
      "outputs": []
    },
    {
      "cell_type": "code",
      "metadata": {
        "id": "SFOe0zE-VvMW"
      },
      "source": [
        "data_y = data_df[' Label']"
      ],
      "execution_count": null,
      "outputs": []
    },
    {
      "cell_type": "code",
      "metadata": {
        "id": "0QfjyqhPVzVj"
      },
      "source": [
        "data_y.shape "
      ],
      "execution_count": null,
      "outputs": []
    },
    {
      "cell_type": "code",
      "metadata": {
        "id": "l28M-56JV0-K"
      },
      "source": [
        "data_df.isnull().sum().sum()"
      ],
      "execution_count": null,
      "outputs": []
    },
    {
      "cell_type": "code",
      "metadata": {
        "id": "-z_x2iZqXVtg"
      },
      "source": [
        "data_y.unique()"
      ],
      "execution_count": null,
      "outputs": []
    },
    {
      "cell_type": "code",
      "metadata": {
        "id": "-inbwqga6ChX"
      },
      "source": [
        "data_X "
      ],
      "execution_count": null,
      "outputs": []
    },
    {
      "cell_type": "markdown",
      "metadata": {
        "id": "xWm6AayY4DGd"
      },
      "source": [
        "### Label Encoding for the Dataset "
      ]
    },
    {
      "cell_type": "code",
      "metadata": {
        "id": "3sgLkKoI22tu"
      },
      "source": [
        "le = LabelEncoder()\n",
        "data_y_trans = le.fit_transform(data_y)\n",
        "\n",
        "le_fid = LabelEncoder()\n",
        "le_fid.fit(data_X['Flow ID'])\n",
        "data_X['Flow ID'] = le_fid.fit_transform(data_X['Flow ID'])\n",
        "le_SIP = LabelEncoder()\n",
        "le_SIP.fit(data_X[' Source IP'])\n",
        "data_X[' Source IP'] = le_SIP.fit_transform(data_X[' Source IP'])\n",
        "le_DIP = LabelEncoder()\n",
        "le_DIP.fit(data_X[' Destination IP'])\n",
        "data_X[' Destination IP'] = le_DIP.fit_transform(data_X[' Destination IP'])\n",
        "le_timestamp = LabelEncoder()\n",
        "le_timestamp.fit(data_X[' Timestamp'])\n",
        "data_X[' Timestamp'] = le_timestamp.fit_transform(data_X[' Timestamp'])"
      ],
      "execution_count": null,
      "outputs": []
    },
    {
      "cell_type": "markdown",
      "metadata": {
        "id": "4VI0xfUwVw_X"
      },
      "source": [
        "## Feature Selection "
      ]
    },
    {
      "cell_type": "code",
      "metadata": {
        "id": "viLlaw7mVv1R",
        "colab": {
          "base_uri": "https://localhost:8080/",
          "height": 75
        },
        "outputId": "aae96804-f051-48cf-aee2-9db86f40ce7e"
      },
      "source": [
        "from sklearn.feature_selection import chi2 \n",
        "from sklearn.feature_selection import SelectKBest \n",
        "from sklearn.ensemble import ExtraTreesClassifier\n",
        "\n",
        "#selecting 20 best features\n",
        "# select_best= SelectKBest(chi2, k=20)\n",
        "# X_feat_20 = select_best.fit_transform(data_X, data_y_trans)\n",
        "# X_feat_20.shape\n",
        "\n",
        "model = ExtraTreesClassifier(random_state=42)\n",
        "#creates an Extra Trees classifier model with a random state of 42. \n",
        "#The random state is used to initialize the random number generator, which can help to improve the reproducibility of the results.\n",
        "model.fit(data_X, data_y_trans)"
      ],
      "execution_count": null,
      "outputs": [
        {
          "output_type": "execute_result",
          "data": {
            "text/plain": [
              "ExtraTreesClassifier(random_state=42)"
            ],
            "text/html": [
              "<style>#sk-container-id-1 {color: black;background-color: white;}#sk-container-id-1 pre{padding: 0;}#sk-container-id-1 div.sk-toggleable {background-color: white;}#sk-container-id-1 label.sk-toggleable__label {cursor: pointer;display: block;width: 100%;margin-bottom: 0;padding: 0.3em;box-sizing: border-box;text-align: center;}#sk-container-id-1 label.sk-toggleable__label-arrow:before {content: \"▸\";float: left;margin-right: 0.25em;color: #696969;}#sk-container-id-1 label.sk-toggleable__label-arrow:hover:before {color: black;}#sk-container-id-1 div.sk-estimator:hover label.sk-toggleable__label-arrow:before {color: black;}#sk-container-id-1 div.sk-toggleable__content {max-height: 0;max-width: 0;overflow: hidden;text-align: left;background-color: #f0f8ff;}#sk-container-id-1 div.sk-toggleable__content pre {margin: 0.2em;color: black;border-radius: 0.25em;background-color: #f0f8ff;}#sk-container-id-1 input.sk-toggleable__control:checked~div.sk-toggleable__content {max-height: 200px;max-width: 100%;overflow: auto;}#sk-container-id-1 input.sk-toggleable__control:checked~label.sk-toggleable__label-arrow:before {content: \"▾\";}#sk-container-id-1 div.sk-estimator input.sk-toggleable__control:checked~label.sk-toggleable__label {background-color: #d4ebff;}#sk-container-id-1 div.sk-label input.sk-toggleable__control:checked~label.sk-toggleable__label {background-color: #d4ebff;}#sk-container-id-1 input.sk-hidden--visually {border: 0;clip: rect(1px 1px 1px 1px);clip: rect(1px, 1px, 1px, 1px);height: 1px;margin: -1px;overflow: hidden;padding: 0;position: absolute;width: 1px;}#sk-container-id-1 div.sk-estimator {font-family: monospace;background-color: #f0f8ff;border: 1px dotted black;border-radius: 0.25em;box-sizing: border-box;margin-bottom: 0.5em;}#sk-container-id-1 div.sk-estimator:hover {background-color: #d4ebff;}#sk-container-id-1 div.sk-parallel-item::after {content: \"\";width: 100%;border-bottom: 1px solid gray;flex-grow: 1;}#sk-container-id-1 div.sk-label:hover label.sk-toggleable__label {background-color: #d4ebff;}#sk-container-id-1 div.sk-serial::before {content: \"\";position: absolute;border-left: 1px solid gray;box-sizing: border-box;top: 0;bottom: 0;left: 50%;z-index: 0;}#sk-container-id-1 div.sk-serial {display: flex;flex-direction: column;align-items: center;background-color: white;padding-right: 0.2em;padding-left: 0.2em;position: relative;}#sk-container-id-1 div.sk-item {position: relative;z-index: 1;}#sk-container-id-1 div.sk-parallel {display: flex;align-items: stretch;justify-content: center;background-color: white;position: relative;}#sk-container-id-1 div.sk-item::before, #sk-container-id-1 div.sk-parallel-item::before {content: \"\";position: absolute;border-left: 1px solid gray;box-sizing: border-box;top: 0;bottom: 0;left: 50%;z-index: -1;}#sk-container-id-1 div.sk-parallel-item {display: flex;flex-direction: column;z-index: 1;position: relative;background-color: white;}#sk-container-id-1 div.sk-parallel-item:first-child::after {align-self: flex-end;width: 50%;}#sk-container-id-1 div.sk-parallel-item:last-child::after {align-self: flex-start;width: 50%;}#sk-container-id-1 div.sk-parallel-item:only-child::after {width: 0;}#sk-container-id-1 div.sk-dashed-wrapped {border: 1px dashed gray;margin: 0 0.4em 0.5em 0.4em;box-sizing: border-box;padding-bottom: 0.4em;background-color: white;}#sk-container-id-1 div.sk-label label {font-family: monospace;font-weight: bold;display: inline-block;line-height: 1.2em;}#sk-container-id-1 div.sk-label-container {text-align: center;}#sk-container-id-1 div.sk-container {/* jupyter's `normalize.less` sets `[hidden] { display: none; }` but bootstrap.min.css set `[hidden] { display: none !important; }` so we also need the `!important` here to be able to override the default hidden behavior on the sphinx rendered scikit-learn.org. See: https://github.com/scikit-learn/scikit-learn/issues/21755 */display: inline-block !important;position: relative;}#sk-container-id-1 div.sk-text-repr-fallback {display: none;}</style><div id=\"sk-container-id-1\" class=\"sk-top-container\"><div class=\"sk-text-repr-fallback\"><pre>ExtraTreesClassifier(random_state=42)</pre><b>In a Jupyter environment, please rerun this cell to show the HTML representation or trust the notebook. <br />On GitHub, the HTML representation is unable to render, please try loading this page with nbviewer.org.</b></div><div class=\"sk-container\" hidden><div class=\"sk-item\"><div class=\"sk-estimator sk-toggleable\"><input class=\"sk-toggleable__control sk-hidden--visually\" id=\"sk-estimator-id-1\" type=\"checkbox\" checked><label for=\"sk-estimator-id-1\" class=\"sk-toggleable__label sk-toggleable__label-arrow\">ExtraTreesClassifier</label><div class=\"sk-toggleable__content\"><pre>ExtraTreesClassifier(random_state=42)</pre></div></div></div></div></div>"
            ]
          },
          "metadata": {},
          "execution_count": 16
        }
      ]
    },
    {
      "cell_type": "code",
      "metadata": {
        "id": "SjY1XpMPPAOy"
      },
      "source": [
        "model.feature_importances_\n",
        "#\n",
        "#The model.feature_importances_ attribute of an LSTM model is a NumPy array that stores the importance of each feature in the model. \n",
        "#The importance of a feature is a measure of how much the feature contributes to the model's predictions"
      ],
      "execution_count": null,
      "outputs": []
    },
    {
      "cell_type": "code",
      "metadata": {
        "id": "xjiGebhZGvzw"
      },
      "source": [
        "feature_importance_std = pd.Series(model.feature_importances_, index=data_X.columns)\n",
        "feature_importance_std.nlargest(20).plot(kind='bar', title='Standardised Dataset Feature Selection using ExtraTreesClassifier')"
      ],
      "execution_count": null,
      "outputs": []
    },
    {
      "cell_type": "code",
      "metadata": {
        "id": "lBb9QQoUzxDw"
      },
      "source": [
        "data_X.shape "
      ],
      "execution_count": null,
      "outputs": []
    },
    {
      "cell_type": "code",
      "metadata": {
        "id": "VPBY6UIkL3z4"
      },
      "source": [
        "data_new_20features_X = data_X[[' Timestamp', ' Source Port', ' Min Packet Length', ' Fwd Packet Length Min', 'Flow ID', ' Packet Length Mean', ' Fwd Packet Length Max', ' Average Packet Size', ' ACK Flag Count', ' Avg Fwd Segment Size', ' Fwd Packet Length Mean', 'Flow Bytes/s', ' Max Packet Length', ' Protocol', 'Fwd Packets/s', ' Flow Packets/s', 'Total Length of Fwd Packets', ' Subflow Fwd Bytes', ' Destination Port', ' act_data_pkt_fwd']]"
      ],
      "execution_count": null,
      "outputs": []
    },
    {
      "cell_type": "code",
      "metadata": {
        "id": "A_QuACT01MB0"
      },
      "source": [
        "data_new_20features_X"
      ],
      "execution_count": null,
      "outputs": []
    },
    {
      "cell_type": "markdown",
      "metadata": {
        "id": "Y10vsI0TFrOn"
      },
      "source": [
        "### Train Test Split Normal dataset 84 Features "
      ]
    },
    {
      "cell_type": "code",
      "metadata": {
        "id": "Bi-ntW31FqAN"
      },
      "source": [
        "from sklearn.model_selection import train_test_split\n",
        "X_train, X_test, y_train, y_test = train_test_split(data_X, data_y_trans, test_size = 0.30, random_state = 42)"
      ],
      "execution_count": null,
      "outputs": []
    },
    {
      "cell_type": "code",
      "metadata": {
        "id": "wH24j1CHGCFR",
        "colab": {
          "base_uri": "https://localhost:8080/"
        },
        "outputId": "34e7806c-d7d9-4a53-e262-d1eae09b57c3"
      },
      "source": [
        "X_train.shape "
      ],
      "execution_count": null,
      "outputs": [
        {
          "output_type": "execute_result",
          "data": {
            "text/plain": [
              "(273260, 85)"
            ]
          },
          "metadata": {},
          "execution_count": 44
        }
      ]
    },
    {
      "cell_type": "code",
      "metadata": {
        "id": "vFUi3gL3GCDB",
        "colab": {
          "base_uri": "https://localhost:8080/"
        },
        "outputId": "fee7e1fa-47be-47be-d992-347ef03d472a"
      },
      "source": [
        "X_test.shape "
      ],
      "execution_count": null,
      "outputs": [
        {
          "output_type": "execute_result",
          "data": {
            "text/plain": [
              "(117112, 85)"
            ]
          },
          "metadata": {},
          "execution_count": 45
        }
      ]
    },
    {
      "cell_type": "markdown",
      "metadata": {
        "id": "m3APsgBHGKvS"
      },
      "source": [
        "### Standardization of the 84 Feature Dataset "
      ]
    },
    {
      "cell_type": "code",
      "metadata": {
        "id": "kYrSNYPVGB_x"
      },
      "source": [
        "\n",
        "from sklearn.preprocessing import StandardScaler \n",
        "ss = StandardScaler()\n",
        "X_train_std = ss.fit_transform(X_train)\n",
        "X_test_std = ss.fit_transform(X_test)"
      ],
      "execution_count": null,
      "outputs": []
    },
    {
      "cell_type": "markdown",
      "metadata": {
        "id": "0uz-tqBa2Dkz"
      },
      "source": [
        "# **Spliting dataset**"
      ]
    },
    {
      "cell_type": "code",
      "metadata": {
        "id": "f5y1gVvj2C8-"
      },
      "source": [
        "from sklearn.model_selection import train_test_split\n",
        "X_train_20, X_test_20, y_train_20, y_test_20 = train_test_split(data_new_20features_X, data_y_trans, test_size = 0.30, random_state = 42)"
      ],
      "execution_count": null,
      "outputs": []
    },
    {
      "cell_type": "markdown",
      "metadata": {
        "id": "cDKSWK2n2pKW"
      },
      "source": [
        "### Standardization of the Feature Dataset "
      ]
    },
    {
      "cell_type": "code",
      "metadata": {
        "id": "m62CFHIg2wGm"
      },
      "source": [
        "from sklearn.preprocessing import StandardScaler \n",
        "ss_20 = StandardScaler()\n",
        "X_train_std_20 = ss_20.fit_transform(X_train_20)\n",
        "X_test_std_20 = ss_20.fit_transform(X_test_20)"
      ],
      "execution_count": null,
      "outputs": []
    },
    {
      "cell_type": "code",
      "metadata": {
        "id": "ZkhGEcRZ4KFx",
        "colab": {
          "base_uri": "https://localhost:8080/",
          "height": 34
        },
        "outputId": "32f9c425-3e5f-41c6-f539-c1ad4f1ea0ca"
      },
      "source": [
        "X_train_std_20.shape "
      ],
      "execution_count": null,
      "outputs": [
        {
          "output_type": "execute_result",
          "data": {
            "text/plain": [
              "(401914, 20)"
            ]
          },
          "metadata": {
            "tags": []
          },
          "execution_count": 48
        }
      ]
    },
    {
      "cell_type": "code",
      "metadata": {
        "id": "GJlJfExP4PMV",
        "colab": {
          "base_uri": "https://localhost:8080/",
          "height": 34
        },
        "outputId": "c93e0d1d-ebe7-43d6-a526-e98444113bd2"
      },
      "source": [
        "y_train_20.shape"
      ],
      "execution_count": null,
      "outputs": [
        {
          "output_type": "execute_result",
          "data": {
            "text/plain": [
              "(401914,)"
            ]
          },
          "metadata": {
            "tags": []
          },
          "execution_count": 49
        }
      ]
    },
    {
      "cell_type": "code",
      "metadata": {
        "id": "rgPgv4mx4S2e",
        "colab": {
          "base_uri": "https://localhost:8080/",
          "height": 34
        },
        "outputId": "d6f4707a-0eff-47c8-b759-bf97fa9e2210"
      },
      "source": [
        "X_test_std_20.shape "
      ],
      "execution_count": null,
      "outputs": [
        {
          "output_type": "execute_result",
          "data": {
            "text/plain": [
              "(172250, 20)"
            ]
          },
          "metadata": {
            "tags": []
          },
          "execution_count": 50
        }
      ]
    },
    {
      "cell_type": "code",
      "metadata": {
        "id": "OlIb0Ob84V9Y",
        "colab": {
          "base_uri": "https://localhost:8080/",
          "height": 34
        },
        "outputId": "445ee3e4-b2d7-4661-85f7-9dbeac765202"
      },
      "source": [
        "y_test_20.shape "
      ],
      "execution_count": null,
      "outputs": [
        {
          "output_type": "execute_result",
          "data": {
            "text/plain": [
              "(172250,)"
            ]
          },
          "metadata": {
            "tags": []
          },
          "execution_count": 51
        }
      ]
    },
    {
      "cell_type": "markdown",
      "metadata": {
        "id": "fxbWkJ8NaOOm"
      },
      "source": [
        "###  LSTM model"
      ]
    },
    {
      "cell_type": "code",
      "metadata": {
        "id": "ply7sMJgYJis"
      },
      "source": [
        "import keras\n",
        "import keras.utils\n",
        "from keras import utils as np_utils\n",
        "from keras.utils import to_categorical\n",
        "\n",
        "y_train_lstm_20 = np.array(y_train_20)\n",
        "y_test_lstm_20 = np.array(y_test_20)\n",
        "\n",
        "y_train_onehot_lstm = to_categorical(y_train_lstm_20,13)\n",
        "y_test_one_hot_lstm = to_categorical(y_test_lstm_20,13)\n",
        "\n",
        "X_train_lstm_20 = np.array(X_train_std_20)\n",
        "X_test_lstm_20 = np.array(X_test_std_20)"
      ],
      "execution_count": null,
      "outputs": []
    },
    {
      "cell_type": "code",
      "metadata": {
        "id": "it15fenfkSUv"
      },
      "source": [
        "X_test_std_20"
      ],
      "execution_count": null,
      "outputs": []
    },
    {
      "cell_type": "code",
      "metadata": {
        "id": "X6HlH_-wXYgr",
        "colab": {
          "base_uri": "https://localhost:8080/",
          "height": 34
        },
        "outputId": "6beb6a1d-51de-4d80-bdfa-0267ca57899c"
      },
      "source": [
        "X_train_lstm_20.shape[0] "
      ],
      "execution_count": null,
      "outputs": [
        {
          "output_type": "execute_result",
          "data": {
            "text/plain": [
              "401914"
            ]
          },
          "metadata": {
            "tags": []
          },
          "execution_count": 96
        }
      ]
    },
    {
      "cell_type": "code",
      "metadata": {
        "id": "2Wc0IKEfbOYW"
      },
      "source": [
        "X_train_lstm_reshape = np.reshape(X_train_std_20, (X_train_lstm_20.shape[0], 1,  X_train_lstm_20.shape[1]))\n",
        "X_test_lstm_reshape = np.reshape(X_test_std_20, (X_test_lstm_20.shape[0], 1, X_test_lstm_20.shape[1]))"
      ],
      "execution_count": null,
      "outputs": []
    },
    {
      "cell_type": "code",
      "metadata": {
        "id": "ukg2Ceqxbprp"
      },
      "source": [
        "from keras.models import Sequential\n",
        "from tensorflow.python.keras.layers import Dense, LSTM\n",
        "from tensorflow.python.keras.models import Sequential\n",
        "from keras.layers import Activation, Dense\n",
        "from keras.layers import Dense, BatchNormalization, Dropout, LSTM\n",
        "from keras.optimizers import Adam\n",
        "from tensorflow.keras import regularizers\n",
        "from sklearn.metrics import precision_score, recall_score, confusion_matrix, classification_report, accuracy_score, f1_score\n",
        "from keras import callbacks\n",
        "from tensorflow.keras.callbacks import EarlyStopping\n",
        "early_stopping = callbacks.EarlyStopping(\n",
        "    min_delta=0.001,\n",
        "    patience=20, \n",
        "    restore_best_weights=True,\n",
        ")\n",
        "batch_size = 256\n",
        "\n",
        "# Initialize the network\n",
        "model_LSTM = Sequential()\n",
        "model_LSTM.add(LSTM(8,input_dim=20, return_sequences=True)) \n",
        "model_LSTM.add(Dropout(0.1))\n",
        "model_LSTM.add(LSTM(8,input_dim=20, return_sequences=False))\n",
        "model_LSTM.add(Dropout(0.1))\n",
        "model_LSTM.add(Dense(13))\n",
        "model_LSTM.add(Activation('softmax'))"
      ],
      "execution_count": null,
      "outputs": []
    },
    {
      "cell_type": "code",
      "metadata": {
        "id": "NnYEA-Rzb5eq"
      },
      "source": [
        "monitor = EarlyStopping(monitor='val_loss', min_delta=1e-3, patience=5, verbose=1, mode='auto',\n",
        "      restore_best_weights=True)"
      ],
      "execution_count": null,
      "outputs": []
    },
    {
      "cell_type": "code",
      "metadata": {
        "id": "7RY96_jub9d2",
        "colab": {
          "base_uri": "https://localhost:8080/"
        },
        "outputId": "e0b4a45b-a5d0-42c8-c0a6-63cc03f19801"
      },
      "source": [
        "model_LSTM.compile(loss='categorical_crossentropy',optimizer='adam',metrics=['accuracy'])\n",
        "model_LSTM.fit(X_train_lstm_reshape, y_train_onehot_lstm, validation_data=(X_test_lstm_reshape, y_test_one_hot_lstm),batch_size=batch_size, epochs=10,callbacks=[monitor])"
      ],
      "execution_count": null,
      "outputs": [
        {
          "output_type": "stream",
          "name": "stdout",
          "text": [
            "Epoch 1/10\n",
            "1068/1068 [==============================] - 13s 7ms/step - loss: 1.5530 - accuracy: 0.4715 - val_loss: 0.8833 - val_accuracy: 0.6331\n",
            "Epoch 2/10\n",
            "1068/1068 [==============================] - 7s 7ms/step - loss: 0.7598 - accuracy: 0.7247 - val_loss: 0.4905 - val_accuracy: 0.8787\n",
            "Epoch 3/10\n",
            "1068/1068 [==============================] - 8s 8ms/step - loss: 0.4301 - accuracy: 0.8717 - val_loss: 0.2024 - val_accuracy: 0.9640\n",
            "Epoch 4/10\n",
            "1068/1068 [==============================] - 7s 6ms/step - loss: 0.2963 - accuracy: 0.9054 - val_loss: 0.1409 - val_accuracy: 0.9710\n",
            "Epoch 5/10\n",
            "1068/1068 [==============================] - 7s 7ms/step - loss: 0.2470 - accuracy: 0.9188 - val_loss: 0.1101 - val_accuracy: 0.9754\n",
            "Epoch 6/10\n",
            "1068/1068 [==============================] - 6s 6ms/step - loss: 0.2181 - accuracy: 0.9253 - val_loss: 0.0950 - val_accuracy: 0.9766\n",
            "Epoch 7/10\n",
            "1068/1068 [==============================] - 7s 7ms/step - loss: 0.2002 - accuracy: 0.9304 - val_loss: 0.0860 - val_accuracy: 0.9783\n",
            "Epoch 8/10\n",
            "1068/1068 [==============================] - 7s 6ms/step - loss: 0.1879 - accuracy: 0.9350 - val_loss: 0.0809 - val_accuracy: 0.9788\n",
            "Epoch 9/10\n",
            "1068/1068 [==============================] - 7s 7ms/step - loss: 0.1774 - accuracy: 0.9387 - val_loss: 0.0756 - val_accuracy: 0.9792\n",
            "Epoch 10/10\n",
            "1068/1068 [==============================] - 7s 7ms/step - loss: 0.1667 - accuracy: 0.9428 - val_loss: 0.0748 - val_accuracy: 0.9760\n"
          ]
        },
        {
          "output_type": "execute_result",
          "data": {
            "text/plain": [
              "<tensorflow.python.keras.callbacks.History at 0x7f889c661c90>"
            ]
          },
          "metadata": {},
          "execution_count": 43
        }
      ]
    },
    {
      "cell_type": "code",
      "metadata": {
        "id": "rxxRViXfcSz_",
        "colab": {
          "base_uri": "https://localhost:8080/"
        },
        "outputId": "1e86fdcc-d9e4-462c-c94c-4cedd7ee1e2c"
      },
      "source": [
        "y_perd_lstm = model_LSTM.predict_classes(X_test_lstm_reshape)"
      ],
      "execution_count": null,
      "outputs": [
        {
          "output_type": "stream",
          "name": "stderr",
          "text": [
            "/usr/local/lib/python3.10/dist-packages/tensorflow/python/keras/engine/sequential.py:454: UserWarning: `model.predict_classes()` is deprecated and will be removed after 2021-01-01. Please use instead:* `np.argmax(model.predict(x), axis=-1)`,   if your model does multi-class classification   (e.g. if it uses a `softmax` last-layer activation).* `(model.predict(x) > 0.5).astype(\"int32\")`,   if your model does binary classification   (e.g. if it uses a `sigmoid` last-layer activation).\n",
            "  warnings.warn('`model.predict_classes()` is deprecated and '\n"
          ]
        }
      ]
    },
    {
      "cell_type": "code",
      "metadata": {
        "id": "-RGFlSyocZcG"
      },
      "source": [
        "print(\"Classification Report for LSTM: \\n\", classification_report(le.inverse_transform(y_test_lstm_20), le.inverse_transform(y_perd_lstm)))"
      ],
      "execution_count": null,
      "outputs": []
    },
    {
      "cell_type": "code",
      "metadata": {
        "id": "GaxyBT0Pajt-"
      },
      "source": [
        "lstm_conf_mat = confusion_matrix(y_test_lstm_20, y_perd_lstm)\n",
        "print(\"LSTM Confusion: \\n\", lstm_conf_mat)"
      ],
      "execution_count": null,
      "outputs": []
    },
    {
      "cell_type": "code",
      "metadata": {
        "id": "PI9BMS2tdxld",
        "colab": {
          "base_uri": "https://localhost:8080/"
        },
        "outputId": "08fcb045-f9fa-440d-d4fb-a41a37913789"
      },
      "source": [
        "acc_score_lstm = accuracy_score(y_test_lstm_20, y_perd_lstm)\n",
        "print(\"Accuracy Score for MLP: \\n\", acc_score_lstm*100)"
      ],
      "execution_count": null,
      "outputs": [
        {
          "output_type": "stream",
          "name": "stdout",
          "text": [
            "Accuracy Score for MLP: \n",
            " 97.6031491222078\n"
          ]
        }
      ]
    }
  ]
}